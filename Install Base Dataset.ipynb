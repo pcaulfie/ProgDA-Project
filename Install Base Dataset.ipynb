{
 "cells": [
  {
   "cell_type": "markdown",
   "metadata": {},
   "source": [
    "# Project 2019 - Programming for Data Analysis\n",
    "\n",
    "# Simulation Dataset - Installed Base Dataset"
   ]
  },
  {
   "cell_type": "markdown",
   "metadata": {},
   "source": [
    "## Introduction\n",
    "The following assignment concerns the numpy.random package in Python 3. I have created a Jupyter notebook explaining the use of the package, including detailed explanations of six of the distributions provided for in the package.\n",
    "\n",
    "## Problem statement\n",
    "\n",
    "The objective of this project is to create a data set by simulating a real-world phenomenon, of my choosing.\n",
    "\n",
    "* Instead of collecting data, I model and synthesise the data using Python packages, such as numpy.random.\n",
    "\n",
    "Specifically, in this project you should:\n",
    "\n",
    "* I simulate two hundred data points across four different variables.\n",
    "* I investigate the types of variables involved, their likely distributions, and their relationships with each other.\n",
    "* I simulate a data set as closely matching their properties as possible.\n",
    "* I detail my research and implement the simulation in a Jupyter notebook \n",
    "* The final dataset itself is displayed in an output cell within the notebook.\n",
    "\n"
   ]
  },
  {
   "cell_type": "markdown",
   "metadata": {},
   "source": [
    "## About My Dataset\n",
    "The objective of my dataset is to simulate typical data about a companys installed base. According to Kurvinen (2017), the typical data on install base includes a listing of products which are installed at a given customer site. Futhermore, it can include additional variables such as serial numbers, hardware and software revisions, warranty and service contracts. \n",
    "\n",
    "Installed base data can be used by many departments in an organisation, from field service engineers, sales, spare parts planners, quality etc . The dataset helps to answer questions such as:\n",
    "\n",
    "* What is the current configuration of the product to be serviced?\n",
    "* Where is the faulty product physically located and where is the part to be replaced located?\n",
    "* Is the unit covered under warranty or service contract?\n",
    "* When was the unit installed, upgraded and/or last serviced?\n",
    "\n",
    "![Install Base Image](https://cdn.myonlinestore.eu/945f2dab-6be1-11e9-a722-44a8421b9960/images/World%20map%20installed%20base.png)"
   ]
  },
  {
   "cell_type": "markdown",
   "metadata": {},
   "source": [
    "## Basic Description of the Dataset\n",
    "\n",
    "The dataset contains the following data\n",
    "\n",
    "1. Part Number: 5 Digit identifier for each product installed. \n",
    "2. Serial Numbers: Unique ID's for each unit sold. There are 200 serial numbers.\n",
    "3. Installation Date: Assume all units sold require a start-up / installation by a field service engineer, who records this date on the company CRM system (Saleforce.com). The dataset was created in January 2017 and spans 36 months.\n",
    "4. Factory Warranty Expiration Date: Factory Warranty usually expires 1 year after installation.\n",
    "5. Extended Warranty: Number of years of extended warranty cover purchased.\n",
    "6. "
   ]
  },
  {
   "cell_type": "raw",
   "metadata": {},
   "source": []
  },
  {
   "cell_type": "markdown",
   "metadata": {},
   "source": [
    "## Variables Types\n",
    " \n",
    " 1. Python Objects  \n",
    " Serial numbers are usually unique alphanumeric strings, usually of a fixed length, so I decided to use UUID function in python to generate random unique ID's which have similar properties to serial numbers. The UUID module provides \"immutable UUID objects (the UUID class) and the functions uuid1(), uuid3(), uuid4(), uuid5() for generating version 1, 3, 4, and 5 UUIDs as specified in RFC 4122\" (The Python Foundation, 2019). The dtype used to store these objects, is Python Object.   \n",
    " \n",
    " 2. datetime64\n",
    " Datetime64 is a NumPy data types which support datetime functionality (The Scipy Community, 2017). This datatype will be used to store datetime variables 'install date' & 'factory warranty'.\n",
    " \n",
    " 3. Int32\n",
    " This datatype is a 32bit integer, which will be used for variable 'extended warranty'.\n",
    " \n",
    " "
   ]
  },
  {
   "cell_type": "markdown",
   "metadata": {},
   "source": [
    "## 1. Defining the main parameters\n",
    "\n",
    "I begin by importing all the necessary dependencies and defining the main parameters mentioned above (200 serial number, 36 months, starting month in January 2017)."
   ]
  },
  {
   "cell_type": "code",
   "execution_count": null,
   "metadata": {},
   "outputs": [],
   "source": [
    "# importing all the libraries\n",
    "import pandas as pd\n",
    "import numpy as np\n",
    "import uuid\n",
    "from datetime import datetime\n",
    "from dateutil.relativedelta import relativedelta\n",
    "import seaborn as sns\n",
    "import matplotlib.pyplot as plt\n",
    "from matplotlib.dates import DateFormatter\n",
    "import matplotlib.dates as mdates"
   ]
  },
  {
   "cell_type": "code",
   "execution_count": null,
   "metadata": {},
   "outputs": [],
   "source": [
    "# Define the main parameters dataset. \n",
    "\n",
    "# number of serial numbers which are contained in the install base dataset\n",
    "num_serial_num = 200\n",
    "\n",
    "# number of months since first unit was installed\n",
    "num_months = 36\n",
    "\n",
    "# starting month when units first installed\n",
    "start_month = '2017-01-01'"
   ]
  },
  {
   "cell_type": "markdown",
   "metadata": {},
   "source": [
    "## 2. Simulate List of Part Numbers\n",
    "Part numbers can be classified as categorical data. \n",
    "\n",
    "Typically, any data attribute which is categorical in nature represents discrete values which belong to a specific finite set of categories or classes. These are also often known as classes or labels in the context of attributes or variables which are to be predicted by a model (popularly known as response variables). These discrete values can be text or numeric in nature (or even unstructured data like images!). There are two major classes of categorical data, nominal and ordinal.\n",
    "In any nominal categorical data attribute, there is no concept of ordering amongst the values of that attribute. Consider a simple example of weather categories, as depicted in the following figure. We can see that we have six major classes or categories in this particular scenario without any concept or notion of order (windy doesn’t always occur before sunny nor is it smaller or bigger than sunny). Sarkar, 2018"
   ]
  },
  {
   "cell_type": "code",
   "execution_count": null,
   "metadata": {},
   "outputs": [],
   "source": [
    "# Use NumPy Random Randint Function to generate 200 random part numbers\n",
    "\n",
    "# 5 Digit Part Numbers with ID # in range of 10000 to 99999\n",
    "low, high, size = (10000 , 99999 , 200) # Define parameters for numpy.random.randint() function\n",
    "\n",
    "np.random.seed(2) # use random seed generator\n",
    "\n",
    "# Create a Pandas Dataframe - # solution adapted from https://stackoverflow.com/a/23671779\n",
    "# Create 2D array of 200 sets of 5 numbers\n",
    "parts = pd.DataFrame(np.random.randint(low, high, size), columns=['parts'])\n",
    "# Display first 5 rows\n",
    "parts.head()"
   ]
  },
  {
   "cell_type": "markdown",
   "metadata": {},
   "source": [
    "## 3. Create Serial Numbers\n",
    "One last option for generating a random token is the uuid4() function from Python’s uuid module. A UUID is a Universally Unique IDentifier, a 128-bit sequence (str of length 32) designed to “guarantee uniqueness across space and time.”"
   ]
  },
  {
   "cell_type": "code",
   "execution_count": null,
   "metadata": {
    "scrolled": true
   },
   "outputs": [],
   "source": [
    "# generating 200 serial numbers using UUID function\n",
    "# Adapted from https://towardsdatascience.com/generating-product-usage-data-from-scratch-with-pandas-319487590c6d\n",
    "\n",
    "# create an 1D array called serial, using uuid4 function to generate 200 random UUID. \n",
    "serial = pd.Series([str(uuid.uuid4()) for i in range(0,num_serial_num)])\n",
    "# create 2D dataframe called installbase and insert array serial\n",
    "installbase = pd.DataFrame()\n",
    "# insert array serial into installbase dataframe\n",
    "installbase['serial number'] = pd.Series(serial)\n",
    "# display dataframe (scrolling)\n",
    "installbase\n"
   ]
  },
  {
   "cell_type": "code",
   "execution_count": null,
   "metadata": {
    "scrolled": true
   },
   "outputs": [],
   "source": [
    "# Adding part number column to the dataframe using pandas concat function\n",
    "# Adapted from https://towardsdatascience.com/generating-product-usage-data-from-scratch-with-pandas-319487590c6d\n",
    "\n",
    "# Combine 2 pandas series in the dataframe, resetting the index without inserting it as a column in the new DataFrame.\n",
    "installbase['part number'] = pd.concat([parts], axis=0).reset_index().drop('index', 1)\n",
    "installbase"
   ]
  },
  {
   "cell_type": "markdown",
   "metadata": {},
   "source": [
    "The output is a dataframe 200 rows and two columns, serial number and part number. "
   ]
  },
  {
   "cell_type": "markdown",
   "metadata": {},
   "source": [
    "## 4. Generating Installation Date\n",
    "\n",
    "I use the pandas.to_datetime function to output a range of datetime values which simulate a range of installation dates. Then I select a random sample of these dates to populate the dataset using np.random.choice function."
   ]
  },
  {
   "cell_type": "code",
   "execution_count": null,
   "metadata": {},
   "outputs": [],
   "source": [
    "# Create Date Range using the specified parameters (starting month, number of months).\n",
    "# Adapted from https://towardsdatascience.com/generating-product-usage-data-from-scratch-with-pandas-319487590c6d\n",
    "\n",
    "# reseting the index without inserting it as a column in the new DataFrame - https://www.geeksforgeeks.org/python-pandas-series-reset_index/\n",
    "installbase = installbase.reset_index().drop('index', 1)\n",
    "\n",
    "# defining range of installation dates: starting month \n",
    "start_month_ts = pd.to_datetime(start_month)\n",
    "# define end month as start month plus 36 months, using relativedata utility https://dateutil.readthedocs.io/en/stable/relativedelta.html\n",
    "end_month_ts = start_month_ts + relativedelta(months=+num_months - 1)\n",
    "\n",
    "# making a Series out of the starting and ending month\n",
    "months = pd.Series(pd.date_range(start_month_ts, end_month_ts, freq='MS'))\n",
    "# Display start and end month\n",
    "str(start_month_ts), str(end_month_ts)"
   ]
  },
  {
   "cell_type": "markdown",
   "metadata": {},
   "source": [
    "This argument uses the specified parameters (starting month, number of months) to generate a range of dates from January 2017 to December 2019."
   ]
  },
  {
   "cell_type": "code",
   "execution_count": null,
   "metadata": {},
   "outputs": [],
   "source": [
    "# Select random installation dates from range of dates created above\n",
    "\n",
    "# use random seed generator\n",
    "np.random.seed(2) # use random seed generator\n",
    "# create a series called installdate whoch contain 200 dates chosen at random from  the daterange \"months\" using random.choice() function \n",
    "installdate = pd.Series(np.random.choice(months, size=num_serial_num))\n",
    "# display first 5 rows\n",
    "installdate.head()"
   ]
  },
  {
   "cell_type": "code",
   "execution_count": null,
   "metadata": {
    "scrolled": true
   },
   "outputs": [],
   "source": [
    "#  Adding installdate column to the dataframe\n",
    "\n",
    "# Combine installdate series into the installbase dataframe, resetting the index without inserting it as a column in the new DataFrame.\n",
    "installbase['install date'] = pd.concat([installdate] * num_serial_num, axis=0).reset_index().drop('index', 1)\n",
    "#diplay the dataframe\n",
    "installbase"
   ]
  },
  {
   "cell_type": "code",
   "execution_count": null,
   "metadata": {},
   "outputs": [],
   "source": []
  },
  {
   "cell_type": "code",
   "execution_count": null,
   "metadata": {},
   "outputs": [],
   "source": [
    "df = installbase.groupby(['install date']).count() # Adapted from McKinney 2019\n",
    "# Resize Plot to creates a figure with 15 (width) x 10 (height) inches - Adapted from https://stackoverflow.com/a/36368418\n",
    "plt.figure(figsize=(15,10))\n",
    "plt.title('Distribution of Install Date Samples') # Plot Title\n",
    "plt.xlabel('Install Date') # Label x Axis \n",
    "plt.ylabel('Frequency') # Label y Axis \n",
    "plt.plot(df['serial number'])\n",
    "plt.xticks(rotation='vertical')"
   ]
  },
  {
   "cell_type": "code",
   "execution_count": null,
   "metadata": {
    "scrolled": true
   },
   "outputs": [],
   "source": [
    "factorywarrantyexpiry = (installdate + np.timedelta64(1, 'Y'))\n",
    "factorywarrantyexpiry"
   ]
  },
  {
   "cell_type": "code",
   "execution_count": null,
   "metadata": {},
   "outputs": [],
   "source": [
    "installbase['factory warranty'] = pd.concat([factorywarrantyexpiry], axis=0).reset_index().drop('index', 1)\n",
    "installbase.head()"
   ]
  },
  {
   "cell_type": "code",
   "execution_count": null,
   "metadata": {},
   "outputs": [],
   "source": [
    "# Customer have a choice of not taking out extended warranty or purchasing an additional 1, 2 or 3 year extended warranty\n",
    "num_warranty = 3  \n",
    "\n",
    "# assign extended warranty to users randomly (when did the user first use the product?)\n",
    "warranty = pd.DataFrame()\n",
    "warranty['warranty extension'] = np.random.randint(low=0, high=num_warranty, size=num_serial_num)\n",
    "warranty.sample(5)\n",
    "\n"
   ]
  },
  {
   "cell_type": "code",
   "execution_count": null,
   "metadata": {},
   "outputs": [],
   "source": [
    "installbase['extended warranty'] = pd.concat([warranty], axis=0).reset_index().drop('index', 1)\n",
    "installbase"
   ]
  },
  {
   "cell_type": "markdown",
   "metadata": {},
   "source": [
    "## 4. Generating categorical features"
   ]
  },
  {
   "cell_type": "code",
   "execution_count": null,
   "metadata": {},
   "outputs": [],
   "source": [
    "# Defining the variables\n",
    "platforms = ['iOS', 'Android']\n",
    "countries = ['IE', 'GB', 'NL', 'FR', 'DE', 'BE', 'DK']\n",
    "service_contract = [False, True]"
   ]
  },
  {
   "cell_type": "markdown",
   "metadata": {},
   "source": [
    "4.1. Generating categorical feature weights\n",
    "Defining weights for the likelihood of a categorical feature associated with an individual unit."
   ]
  },
  {
   "cell_type": "code",
   "execution_count": null,
   "metadata": {},
   "outputs": [],
   "source": [
    "# Define the parameters; shape and sample size\n",
    "a = 3. # Shape\n",
    "m = 2. # Mode\n",
    "size = 1000 # sample size \n",
    "\n",
    "# create a dataframe called n, using parameters \n",
    "n=np.random.pareto(a, size)*m\n",
    "\n",
    "#randomInts = np.random.normal(loc=10, scale=3, size=10000).astype(int)-10\n",
    "n"
   ]
  },
  {
   "cell_type": "markdown",
   "metadata": {},
   "source": [
    "## References\n",
    "1. Kurvinen, M (2017) *INSTALLED BASE AND TRACEABILITY* [Online] Available at: http://sd-ize.com/installed-base.html[Accessed 1 December 2019].\n",
    "2. Python Software Foundation (2019) *UUID objects according to RFC 4122* [Online] Available at https://docs.python.org/2/library/uuid.html [Accessed 1 December 2019]\n",
    "3. Osolnik, J (2017) *Simulating product usage data with Pandas* [Online] Available at https://towardsdatascience.com/generating-product-usage-data-from-scratch-with-pandas-319487590c6d [Accessed 1 December 2019]\n",
    "4. The Scipy Community (2017) *Datetimes and Timedeltas* [Online] Available at https://docs.scipy.org/doc/numpy-1.13.0/reference/arrays.datetime.html [Accessed 3 December 2019]\n",
    "5. Sarkar, D (2018) *Categorical Data* [Online] Available at: https://towardsdatascience.com/understanding-feature-engineering-part-2-categorical-data-f54324193e63 [Accessed 21 November 2019].\n",
    "6. Solomon, B (2018) *Generating Random Data in Python (Guide)* [Online] Available at: https://realpython.com/python-random/ [Accessed 7 December 2019]\n",
    "\n"
   ]
  }
 ],
 "metadata": {
  "kernelspec": {
   "display_name": "Python 3",
   "language": "python",
   "name": "python3"
  },
  "language_info": {
   "codemirror_mode": {
    "name": "ipython",
    "version": 3
   },
   "file_extension": ".py",
   "mimetype": "text/x-python",
   "name": "python",
   "nbconvert_exporter": "python",
   "pygments_lexer": "ipython3",
   "version": "3.7.1"
  }
 },
 "nbformat": 4,
 "nbformat_minor": 2
}
